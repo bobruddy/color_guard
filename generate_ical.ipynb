{
 "cells": [
  {
   "cell_type": "markdown",
   "id": "8d6ec04a",
   "metadata": {},
   "source": [
    "## This notebook generates an ics file\n",
    "\n",
    "For some reason the kind folks that run my kids color guard program think it is best to have a schedule in google sheets rather than in say, I don't know.... Maybe a calendar. \n",
    "\n",
    "No problem. This fixes that. "
   ]
  },
  {
   "cell_type": "code",
   "execution_count": 5,
   "id": "192efe1e",
   "metadata": {},
   "outputs": [],
   "source": [
    "import pandas as pd\n",
    "from ics import Calendar, Event\n",
    "import pytz\n",
    "import re\n",
    "from datetime import timedelta, datetime\n",
    "\n",
    "# grab the sheet\n",
    "SHEET_ID = '1lfg4tMptsJGh-D3sRNOVvAuVTp7q-Zw59VLxKtWX3VA'\n",
    "SHEET_NAME = 'Complete%20Schedule'\n",
    "url = f'https://docs.google.com/spreadsheets/d/{SHEET_ID}/gviz/tq?tqx=out:csv&sheet={SHEET_NAME}'\n",
    "df = pd.read_csv(url,  skiprows=2)\n",
    "\n",
    "# fix column headers\n",
    "df.columns = ['day', 'date', 'time', 'location', 'activity']\n",
    "\n",
    "# convert to list of dicts\n",
    "records = df.to_dict('records')"
   ]
  },
  {
   "cell_type": "code",
   "execution_count": 6,
   "id": "84011bc2",
   "metadata": {},
   "outputs": [],
   "source": [
    "# use this to turn text months into number months\n",
    "months = {\n",
    "    'January': 1, 'February': 2, 'March': 3,\n",
    "    'April': 4, 'May': 5, 'June': 6,\n",
    "    'July': 7, 'August': 8, 'September': 9,\n",
    "    'October': 10, 'November': 11, 'December': 12\n",
    "}"
   ]
  },
  {
   "cell_type": "code",
   "execution_count": 26,
   "id": "85697e5e",
   "metadata": {},
   "outputs": [],
   "source": [
    "# take the calendar items and build an ical object then write it out to the file\n",
    "cal = Calendar()\n",
    "\n",
    "# grab when i was last run so i can see in the calendar if its working\n",
    "last_updated_str = str( datetime.now() )\n",
    "\n",
    "for rt in records:\n",
    "    e = Event()\n",
    "    \n",
    "    # grab records for easy reference\n",
    "    date = rt['date']\n",
    "    month = None\n",
    "    day = None\n",
    "    year = None\n",
    "    location = rt[ 'location' ]\n",
    "    activity = rt[ 'activity' ]\n",
    "    time = rt[ 'time' ]\n",
    "    \n",
    "    # setup activity to display\n",
    "    if str(activity) != 'nan':\n",
    "        activity = '\\n\\n' + str(activity)\n",
    "    else:\n",
    "        activity = ''\n",
    "    \n",
    "    # get rid of spaces\n",
    "    time = \"\".join(time.split()).lower()\n",
    "    \n",
    "    # parse out the date\n",
    "    match = re.search(r'([JFMASOND][a-z]+) +(\\d+), +(202\\d)', date)\n",
    "    if match:\n",
    "        month = months[ match.group(1) ]\n",
    "        day = int(match.group(2))\n",
    "        year = int(match.group(3))\n",
    "    del match\n",
    "    \n",
    "    tbd_subject = ''\n",
    "    if time == 'tbd':\n",
    "        start_hour = 8\n",
    "        start_minute = 0\n",
    "        end_hour = 16\n",
    "        end_minute = 0\n",
    "        tbd_subject = ' Exact time is TBD'\n",
    "    else:\n",
    "        match = re.search(r'(\\d+):?(\\d*)([apm]*)-(\\d+):?(\\d*)([apm]*)', time)\n",
    "        if match:\n",
    "            start_hour = int(match.group(1))\n",
    "            start_minute = match.group(2) or 0\n",
    "            start_ampm = match.group(3)\n",
    "            end_hour = int(match.group(4))\n",
    "            end_minute = match.group(5) or 0\n",
    "            end_minute = int( end_minute )\n",
    "            end_ampm = match.group(6)\n",
    "\n",
    "            # this deals with all the AM/PM BS\n",
    "            if start_ampm == 'am':\n",
    "                start_hour = start_hour\n",
    "            elif start_ampm == 'pm':\n",
    "                start_hour = start_hour + 12\n",
    "            elif end_ampm == 'pm':\n",
    "                start_hour = start_hour + 12\n",
    "\n",
    "            if end_ampm == 'pm':\n",
    "                end_hour = end_hour + 12\n",
    "\n",
    "    # build the event info\n",
    "    e.name = 'Elie: Color Guard (' + location + ')' + tbd_subject\n",
    "    e.begin = datetime(year, month, day, start_hour, start_minute, 0, tzinfo=pytz.timezone('US/Eastern')) - timedelta(minutes=15)\n",
    "\n",
    "    e.end = datetime(year, month, day, end_hour, end_minute, 0, tzinfo=pytz.timezone('US/Eastern')) \n",
    "    e.location = location\n",
    "    #e.url = rt['url']\n",
    "    e.description = 'Elie: Color Guard -> ' + date + ' -> ' + time + ' -> ' + ' -> ' + location + activity + '\\n\\nLast synced at: ' + last_updated_str\n",
    "    #e.organizer = 'bob@ruddy.net'\n",
    "    \n",
    "    # add event to the calendar\n",
    "    cal.events.add(e)\n",
    "\n",
    "# write out to an ics file\n",
    "ics_file = 'color.ics'\n",
    "with open(ics_file, 'w') as my_file:\n",
    "    my_file.writelines(cal)"
   ]
  },
  {
   "cell_type": "markdown",
   "id": "fa4c962a",
   "metadata": {},
   "source": [
    "# run this to copy to server when finished\n",
    "    scp /home/ruddy/src/color_guard/color.ics elm:/data/htdocs/elm/color.ics"
   ]
  },
  {
   "cell_type": "code",
   "execution_count": 9,
   "id": "702a8c92",
   "metadata": {},
   "outputs": [
    {
     "data": {
      "text/plain": [
       "'2023-01-19 12:07:06.586333'"
      ]
     },
     "execution_count": 9,
     "metadata": {},
     "output_type": "execute_result"
    }
   ],
   "source": [
    "str( datetime.now() )"
   ]
  }
 ],
 "metadata": {
  "kernelspec": {
   "display_name": "Python 3 (ipykernel)",
   "language": "python",
   "name": "python3"
  },
  "language_info": {
   "codemirror_mode": {
    "name": "ipython",
    "version": 3
   },
   "file_extension": ".py",
   "mimetype": "text/x-python",
   "name": "python",
   "nbconvert_exporter": "python",
   "pygments_lexer": "ipython3",
   "version": "3.11.1"
  }
 },
 "nbformat": 4,
 "nbformat_minor": 5
}
